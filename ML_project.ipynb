{
  "nbformat": 4,
  "nbformat_minor": 0,
  "metadata": {
    "colab": {
      "provenance": []
    },
    "kernelspec": {
      "name": "python3",
      "display_name": "Python 3"
    },
    "language_info": {
      "name": "python"
    }
  },
  "cells": [
    {
      "cell_type": "markdown",
      "source": [
        "# ***Renewable*** **Energy** **Consumption**"
      ],
      "metadata": {
        "id": "K-IuIMwMcxBw"
      }
    },
    {
      "cell_type": "markdown",
      "source": [
        "**Data** **Preprocessing**\n"
      ],
      "metadata": {
        "id": "f_OOqStcWmeQ"
      }
    },
    {
      "cell_type": "code",
      "execution_count": 1,
      "metadata": {
        "id": "wpEG1wdcSnQ7"
      },
      "outputs": [],
      "source": [
        "import pandas as pd\n",
        "from sklearn.model_selection import train_test_split\n",
        "from sklearn.preprocessing import OneHotEncoder"
      ]
    },
    {
      "cell_type": "code",
      "source": [
        "# Load the dataset\n",
        "data = pd.read_csv(\"/dataset.csv\")\n"
      ],
      "metadata": {
        "id": "q7ichXLCbLTq"
      },
      "execution_count": 8,
      "outputs": []
    },
    {
      "cell_type": "code",
      "source": [
        "# One-hot encoding the 'Sector' column\n",
        "encoder = OneHotEncoder(sparse_output=False)\n",
        "sector_encoded = encoder.fit_transform(data[['Sector']])\n",
        "sector_encoded_df = pd.DataFrame(sector_encoded, columns=encoder.get_feature_names_out(['Sector']))"
      ],
      "metadata": {
        "id": "jSYY-ElTWPiq"
      },
      "execution_count": 10,
      "outputs": []
    },
    {
      "cell_type": "code",
      "source": [
        "# Concatenate the encoded DataFrame with the original data (excluding the original 'Sector' column)\n",
        "data_preprocessed = pd.concat([data.drop(['Sector', 'Total Renewable Energy'], axis=1), sector_encoded_df], axis=1)\n",
        "target = data['Total Renewable Energy']\n"
      ],
      "metadata": {
        "id": "OcMEyTgVWgow"
      },
      "execution_count": 11,
      "outputs": []
    },
    {
      "cell_type": "code",
      "source": [
        "# Splitting the dataset into training and testing sets\n",
        "X_train, X_test, y_train, y_test = train_test_split(data_preprocessed, target, test_size=0.2, random_state=42)"
      ],
      "metadata": {
        "id": "6OUXUuwFW0jH"
      },
      "execution_count": 12,
      "outputs": []
    },
    {
      "cell_type": "markdown",
      "source": [
        "**Model** **Training**"
      ],
      "metadata": {
        "id": "vhgsmd_1W3pc"
      }
    },
    {
      "cell_type": "code",
      "source": [
        "from sklearn.linear_model import LinearRegression\n",
        "from sklearn.ensemble import RandomForestRegressor, GradientBoostingRegressor"
      ],
      "metadata": {
        "id": "O6qSwygkXYPK"
      },
      "execution_count": 13,
      "outputs": []
    },
    {
      "cell_type": "code",
      "source": [
        "linear_model = LinearRegression()\n",
        "rf_model = RandomForestRegressor(random_state=42)\n",
        "gb_model = GradientBoostingRegressor(random_state=42)"
      ],
      "metadata": {
        "id": "bYLRfgBiXc_T"
      },
      "execution_count": 14,
      "outputs": []
    },
    {
      "cell_type": "code",
      "source": [
        "# Training models\n",
        "linear_model.fit(X_train, y_train)\n",
        "rf_model.fit(X_train, y_train)\n",
        "gb_model.fit(X_train, y_train)"
      ],
      "metadata": {
        "colab": {
          "base_uri": "https://localhost:8080/",
          "height": 75
        },
        "id": "di1nQsEAXjN3",
        "outputId": "57ce93d6-7367-4656-de69-e2504e3cf1dd"
      },
      "execution_count": 15,
      "outputs": [
        {
          "output_type": "execute_result",
          "data": {
            "text/plain": [
              "GradientBoostingRegressor(random_state=42)"
            ],
            "text/html": [
              "<style>#sk-container-id-1 {color: black;background-color: white;}#sk-container-id-1 pre{padding: 0;}#sk-container-id-1 div.sk-toggleable {background-color: white;}#sk-container-id-1 label.sk-toggleable__label {cursor: pointer;display: block;width: 100%;margin-bottom: 0;padding: 0.3em;box-sizing: border-box;text-align: center;}#sk-container-id-1 label.sk-toggleable__label-arrow:before {content: \"▸\";float: left;margin-right: 0.25em;color: #696969;}#sk-container-id-1 label.sk-toggleable__label-arrow:hover:before {color: black;}#sk-container-id-1 div.sk-estimator:hover label.sk-toggleable__label-arrow:before {color: black;}#sk-container-id-1 div.sk-toggleable__content {max-height: 0;max-width: 0;overflow: hidden;text-align: left;background-color: #f0f8ff;}#sk-container-id-1 div.sk-toggleable__content pre {margin: 0.2em;color: black;border-radius: 0.25em;background-color: #f0f8ff;}#sk-container-id-1 input.sk-toggleable__control:checked~div.sk-toggleable__content {max-height: 200px;max-width: 100%;overflow: auto;}#sk-container-id-1 input.sk-toggleable__control:checked~label.sk-toggleable__label-arrow:before {content: \"▾\";}#sk-container-id-1 div.sk-estimator input.sk-toggleable__control:checked~label.sk-toggleable__label {background-color: #d4ebff;}#sk-container-id-1 div.sk-label input.sk-toggleable__control:checked~label.sk-toggleable__label {background-color: #d4ebff;}#sk-container-id-1 input.sk-hidden--visually {border: 0;clip: rect(1px 1px 1px 1px);clip: rect(1px, 1px, 1px, 1px);height: 1px;margin: -1px;overflow: hidden;padding: 0;position: absolute;width: 1px;}#sk-container-id-1 div.sk-estimator {font-family: monospace;background-color: #f0f8ff;border: 1px dotted black;border-radius: 0.25em;box-sizing: border-box;margin-bottom: 0.5em;}#sk-container-id-1 div.sk-estimator:hover {background-color: #d4ebff;}#sk-container-id-1 div.sk-parallel-item::after {content: \"\";width: 100%;border-bottom: 1px solid gray;flex-grow: 1;}#sk-container-id-1 div.sk-label:hover label.sk-toggleable__label {background-color: #d4ebff;}#sk-container-id-1 div.sk-serial::before {content: \"\";position: absolute;border-left: 1px solid gray;box-sizing: border-box;top: 0;bottom: 0;left: 50%;z-index: 0;}#sk-container-id-1 div.sk-serial {display: flex;flex-direction: column;align-items: center;background-color: white;padding-right: 0.2em;padding-left: 0.2em;position: relative;}#sk-container-id-1 div.sk-item {position: relative;z-index: 1;}#sk-container-id-1 div.sk-parallel {display: flex;align-items: stretch;justify-content: center;background-color: white;position: relative;}#sk-container-id-1 div.sk-item::before, #sk-container-id-1 div.sk-parallel-item::before {content: \"\";position: absolute;border-left: 1px solid gray;box-sizing: border-box;top: 0;bottom: 0;left: 50%;z-index: -1;}#sk-container-id-1 div.sk-parallel-item {display: flex;flex-direction: column;z-index: 1;position: relative;background-color: white;}#sk-container-id-1 div.sk-parallel-item:first-child::after {align-self: flex-end;width: 50%;}#sk-container-id-1 div.sk-parallel-item:last-child::after {align-self: flex-start;width: 50%;}#sk-container-id-1 div.sk-parallel-item:only-child::after {width: 0;}#sk-container-id-1 div.sk-dashed-wrapped {border: 1px dashed gray;margin: 0 0.4em 0.5em 0.4em;box-sizing: border-box;padding-bottom: 0.4em;background-color: white;}#sk-container-id-1 div.sk-label label {font-family: monospace;font-weight: bold;display: inline-block;line-height: 1.2em;}#sk-container-id-1 div.sk-label-container {text-align: center;}#sk-container-id-1 div.sk-container {/* jupyter's `normalize.less` sets `[hidden] { display: none; }` but bootstrap.min.css set `[hidden] { display: none !important; }` so we also need the `!important` here to be able to override the default hidden behavior on the sphinx rendered scikit-learn.org. See: https://github.com/scikit-learn/scikit-learn/issues/21755 */display: inline-block !important;position: relative;}#sk-container-id-1 div.sk-text-repr-fallback {display: none;}</style><div id=\"sk-container-id-1\" class=\"sk-top-container\"><div class=\"sk-text-repr-fallback\"><pre>GradientBoostingRegressor(random_state=42)</pre><b>In a Jupyter environment, please rerun this cell to show the HTML representation or trust the notebook. <br />On GitHub, the HTML representation is unable to render, please try loading this page with nbviewer.org.</b></div><div class=\"sk-container\" hidden><div class=\"sk-item\"><div class=\"sk-estimator sk-toggleable\"><input class=\"sk-toggleable__control sk-hidden--visually\" id=\"sk-estimator-id-1\" type=\"checkbox\" checked><label for=\"sk-estimator-id-1\" class=\"sk-toggleable__label sk-toggleable__label-arrow\">GradientBoostingRegressor</label><div class=\"sk-toggleable__content\"><pre>GradientBoostingRegressor(random_state=42)</pre></div></div></div></div></div>"
            ]
          },
          "metadata": {},
          "execution_count": 15
        }
      ]
    },
    {
      "cell_type": "markdown",
      "source": [
        "**Model** **Evaluation**"
      ],
      "metadata": {
        "id": "FL_tN8ZwX43C"
      }
    },
    {
      "cell_type": "code",
      "source": [
        "from sklearn.metrics import mean_squared_error, r2_score\n",
        "import numpy as np"
      ],
      "metadata": {
        "id": "O2-hp5oDX9eN"
      },
      "execution_count": 16,
      "outputs": []
    },
    {
      "cell_type": "code",
      "source": [
        "# Prediction and evaluation\n",
        "def evaluate_model(model, X_test, y_test):\n",
        "    predictions = model.predict(X_test)\n",
        "    rmse = np.sqrt(mean_squared_error(y_test, predictions))\n",
        "    r2 = r2_score(y_test, predictions)\n",
        "    return rmse, r2\n",
        "\n"
      ],
      "metadata": {
        "id": "7BkmC3dlYB3K"
      },
      "execution_count": 18,
      "outputs": []
    },
    {
      "cell_type": "code",
      "source": [
        "rmse_linear, r2_linear = evaluate_model(linear_model, X_test, y_test)\n",
        "rmse_rf, r2_rf = evaluate_model(rf_model, X_test, y_test)\n",
        "rmse_gb, r2_gb = evaluate_model(gb_model, X_test, y_test)"
      ],
      "metadata": {
        "id": "6rZplroTYJ7h"
      },
      "execution_count": 19,
      "outputs": []
    },
    {
      "cell_type": "markdown",
      "source": [
        "**Hyperparameter** **Tuning**"
      ],
      "metadata": {
        "id": "FcQoJ5mZYVeV"
      }
    },
    {
      "cell_type": "code",
      "source": [
        "#Random Forrest\n",
        "\n",
        "from sklearn.model_selection import GridSearchCV\n",
        "\n",
        "# Define parameter grid\n",
        "param_grid_rf = {\n",
        "    'n_estimators': [100, 200, 300],\n",
        "    'max_features': ['auto', 'sqrt', 'log2'],\n",
        "    'max_depth': [None, 10, 20, 30],\n",
        "    'min_samples_split': [2, 5, 10]\n",
        "}\n",
        "\n",
        "# Grid search\n",
        "grid_search_rf = GridSearchCV(estimator=rf_model, param_grid=param_grid_rf, cv=3, scoring='neg_mean_squared_error', verbose=2, n_jobs=-1)\n",
        "grid_search_rf.fit(X_train, y_train)\n",
        "\n",
        "# Best parameters and RMSE for RF\n",
        "best_rf_model = grid_search_rf.best_estimator_\n",
        "best_rf_rmse, best_rf_r2 = evaluate_model(best_rf_model, X_test, y_test)"
      ],
      "metadata": {
        "colab": {
          "base_uri": "https://localhost:8080/"
        },
        "id": "kPsavpOhYake",
        "outputId": "8b139529-105a-456d-d920-bfb3b37af0e3"
      },
      "execution_count": 20,
      "outputs": [
        {
          "output_type": "stream",
          "name": "stdout",
          "text": [
            "Fitting 3 folds for each of 108 candidates, totalling 324 fits\n"
          ]
        }
      ]
    },
    {
      "cell_type": "markdown",
      "source": [
        "**Gradient** **Boosting**"
      ],
      "metadata": {
        "id": "SUbzXvmnaq4C"
      }
    },
    {
      "cell_type": "code",
      "source": [
        "# Define parameter grid\n",
        "param_grid_gb = {\n",
        "    'n_estimators': [100, 200, 300],\n",
        "    'learning_rate': [0.01, 0.1, 0.2],\n",
        "    'subsample': [0.8, 0.9, 1.0],\n",
        "    'max_depth': [3, 5, 7]\n",
        "}\n",
        "\n",
        "# Grid search\n",
        "grid_search_gb = GridSearchCV(estimator=gb_model, param_grid=param_grid_gb, cv=3, scoring='neg_mean_squared_error', verbose=2, n_jobs=-1)\n",
        "grid_search_gb.fit(X_train, y_train)\n",
        "\n",
        "# Best parameters and RMSE for GB\n",
        "best_gb_model = grid_search_gb.best_estimator_\n",
        "best_gb_rmse, best_gb_r2 = evaluate_model(best_gb_model, X_test, y_test)"
      ],
      "metadata": {
        "colab": {
          "base_uri": "https://localhost:8080/"
        },
        "id": "VIZ3vuaQawtI",
        "outputId": "600b8c65-ac7a-4aec-f761-91b6a4884f7a"
      },
      "execution_count": 21,
      "outputs": [
        {
          "output_type": "stream",
          "name": "stdout",
          "text": [
            "Fitting 3 folds for each of 81 candidates, totalling 243 fits\n"
          ]
        }
      ]
    },
    {
      "cell_type": "markdown",
      "source": [
        "**Model** **Performance**"
      ],
      "metadata": {
        "id": "uklnGHd7cBah"
      }
    },
    {
      "cell_type": "code",
      "source": [
        "# all model performances\n",
        "model_performance = {\n",
        "    \"Linear Regression\": {\"RMSE\": rmse_linear, \"R2\": r2_linear},\n",
        "    \"Random Forest (default)\": {\"RMSE\": rmse_rf, \"R2\": r2_rf},\n",
        "    \"Gradient Boosting (default)\": {\"RMSE\": rmse_gb, \"R2\": r2_gb},\n",
        "    \"Random Forest (tuned)\": {\"RMSE\": best_rf_rmse, \"R2\": best_rf_r2},\n",
        "    \"Gradient Boosting (tuned)\": {\"RMSE\": best_gb_rmse, \"R2\": best_gb_r2}\n",
        "}\n",
        "\n",
        "# Displaying model performances\n",
        "for model, metrics in model_performance.items():\n",
        "    print(f\"{model} - RMSE: {metrics['RMSE']:.3f}, R2: {metrics['R2']:.3f}\")\n",
        "\n",
        "# Determining the best model based on RMSE\n",
        "best_model = min(model_performance, key=lambda x: model_performance[x]['RMSE'])\n",
        "best_model_metrics = model_performance[best_model]\n",
        "print(f\"\\nBest Model: {best_model}\")\n",
        "print(f\"Best RMSE: {best_model_metrics['RMSE']:.3f}\")\n",
        "print(f\"Best R2: {best_model_metrics['R2']:.3f}\")\n",
        "\n",
        "# If you want to explore the best hyperparameters for the tuned models\n",
        "print(\"\\nBest Random Forest Parameters:\", grid_search_rf.best_params_)\n",
        "print(\"Best Gradient Boosting Parameters:\", grid_search_gb.best_params_)\n"
      ],
      "metadata": {
        "colab": {
          "base_uri": "https://localhost:8080/"
        },
        "id": "Ovomv60ecFJI",
        "outputId": "1f318e8f-9d20-49f3-8c19-a457af3028c1"
      },
      "execution_count": 22,
      "outputs": [
        {
          "output_type": "stream",
          "name": "stdout",
          "text": [
            "Linear Regression - RMSE: 0.375, R2: 1.000\n",
            "Random Forest (default) - RMSE: 2.063, R2: 0.999\n",
            "Gradient Boosting (default) - RMSE: 2.787, R2: 0.998\n",
            "Random Forest (tuned) - RMSE: 3.637, R2: 0.997\n",
            "Gradient Boosting (tuned) - RMSE: 2.109, R2: 0.999\n",
            "\n",
            "Best Model: Linear Regression\n",
            "Best RMSE: 0.375\n",
            "Best R2: 1.000\n",
            "\n",
            "Best Random Forest Parameters: {'max_depth': None, 'max_features': 'sqrt', 'min_samples_split': 2, 'n_estimators': 200}\n",
            "Best Gradient Boosting Parameters: {'learning_rate': 0.1, 'max_depth': 3, 'n_estimators': 300, 'subsample': 0.8}\n"
          ]
        }
      ]
    }
  ]
}