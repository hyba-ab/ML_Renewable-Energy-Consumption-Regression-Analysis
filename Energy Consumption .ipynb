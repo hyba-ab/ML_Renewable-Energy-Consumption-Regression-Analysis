{
  "nbformat": 4,
  "nbformat_minor": 0,
  "metadata": {
    "colab": {
      "provenance": []
    },
    "kernelspec": {
      "name": "python3",
      "display_name": "Python 3"
    },
    "language_info": {
      "name": "python"
    }
  },
  "cells": [
    {
      "cell_type": "markdown",
      "source": [
        "# ***Renewable*** **Energy** **Consumption**"
      ],
      "metadata": {
        "id": "K-IuIMwMcxBw"
      }
    },
    {
      "cell_type": "markdown",
      "source": [
        "**Data** **Preprocessing**\n"
      ],
      "metadata": {
        "id": "f_OOqStcWmeQ"
      }
    },
    {
      "cell_type": "code",
      "execution_count": 1,
      "metadata": {
        "id": "wpEG1wdcSnQ7"
      },
      "outputs": [],
      "source": [
        "import pandas as pd\n",
        "from sklearn.model_selection import train_test_split\n",
        "from sklearn.preprocessing import OneHotEncoder"
      ]
    },
    {
      "cell_type": "code",
      "source": [
        "# Load the dataset\n",
        "data = pd.read_csv(\"/dataset.csv\")\n"
      ],
      "metadata": {
        "id": "q7ichXLCbLTq"
      },
      "execution_count": 8,
      "outputs": []
    },
    {
      "cell_type": "code",
      "source": [
        "# One-hot encoding the 'Sector' column\n",
        "encoder = OneHotEncoder(sparse_output=False)\n",
        "sector_encoded = encoder.fit_transform(data[['Sector']])\n",
        "sector_encoded_df = pd.DataFrame(sector_encoded, columns=encoder.get_feature_names_out(['Sector']))"
      ],
      "metadata": {
        "id": "jSYY-ElTWPiq"
      },
      "execution_count": 10,
      "outputs": []
    },
    {
      "cell_type": "code",
      "source": [
        "# Concatenate the encoded DataFrame with the original data (excluding the original 'Sector' column)\n",
        "data_preprocessed = pd.concat([data.drop(['Sector', 'Total Renewable Energy'], axis=1), sector_encoded_df], axis=1)\n",
        "target = data['Total Renewable Energy']\n"
      ],
      "metadata": {
        "id": "OcMEyTgVWgow"
      },
      "execution_count": 11,
      "outputs": []
    },
    {
      "cell_type": "code",
      "source": [
        "# Splitting the dataset into training and testing sets\n",
        "X_train, X_test, y_train, y_test = train_test_split(data_preprocessed, target, test_size=0.2, random_state=42)"
      ],
      "metadata": {
        "id": "6OUXUuwFW0jH"
      },
      "execution_count": 12,
      "outputs": []
    },
    {
      "cell_type": "markdown",
      "source": [
        "**Model** **Training**"
      ],
      "metadata": {
        "id": "vhgsmd_1W3pc"
      }
    },
    {
      "cell_type": "code",
      "source": [
        "from sklearn.linear_model import LinearRegression\n",
        "from sklearn.ensemble import RandomForestRegressor, GradientBoostingRegressor"
      ],
      "metadata": {
        "id": "O6qSwygkXYPK"
      },
      "execution_count": 13,
      "outputs": []
    },
    {
      "cell_type": "code",
      "source": [
        "linear_model = LinearRegression()\n",
        "rf_model = RandomForestRegressor(random_state=42)\n",
        "gb_model = GradientBoostingRegressor(random_state=42)"
      ],
      "metadata": {
        "id": "bYLRfgBiXc_T"
      },
      "execution_count": 14,
      "outputs": []
    },
    {
      "cell_type": "code",
      "source": [
        "# Training models\n",
        "linear_model.fit(X_train, y_train)\n",
        "rf_model.fit(X_train, y_train)\n",
        "gb_model.fit(X_train, y_train)"
      ],
      "metadata": {
        "id": "di1nQsEAXjN3"
      },
      "execution_count": null,
      "outputs": []
    },
    {
      "cell_type": "markdown",
      "source": [
        "**Model** **Evaluation**"
      ],
      "metadata": {
        "id": "FL_tN8ZwX43C"
      }
    },
    {
      "cell_type": "code",
      "source": [
        "from sklearn.metrics import mean_squared_error, r2_score\n",
        "import numpy as np"
      ],
      "metadata": {
        "id": "O2-hp5oDX9eN"
      },
      "execution_count": 16,
      "outputs": []
    },
    {
      "cell_type": "code",
      "source": [
        "# Prediction and evaluation\n",
        "def evaluate_model(model, X_test, y_test):\n",
        "    predictions = model.predict(X_test)\n",
        "    rmse = np.sqrt(mean_squared_error(y_test, predictions))\n",
        "    r2 = r2_score(y_test, predictions)\n",
        "    return rmse, r2\n",
        "\n"
      ],
      "metadata": {
        "id": "7BkmC3dlYB3K"
      },
      "execution_count": 18,
      "outputs": []
    },
    {
      "cell_type": "code",
      "source": [
        "rmse_linear, r2_linear = evaluate_model(linear_model, X_test, y_test)\n",
        "rmse_rf, r2_rf = evaluate_model(rf_model, X_test, y_test)\n",
        "rmse_gb, r2_gb = evaluate_model(gb_model, X_test, y_test)"
      ],
      "metadata": {
        "id": "6rZplroTYJ7h"
      },
      "execution_count": 19,
      "outputs": []
    },
    {
      "cell_type": "markdown",
      "source": [
        "**Hyperparameter** **Tuning**"
      ],
      "metadata": {
        "id": "FcQoJ5mZYVeV"
      }
    },
    {
      "cell_type": "code",
      "source": [
        "#Random Forrest\n",
        "\n",
        "from sklearn.model_selection import GridSearchCV\n",
        "\n",
        "# Define parameter grid\n",
        "param_grid_rf = {\n",
        "    'n_estimators': [100, 200, 300],\n",
        "    'max_features': ['auto', 'sqrt', 'log2'],\n",
        "    'max_depth': [None, 10, 20, 30],\n",
        "    'min_samples_split': [2, 5, 10]\n",
        "}\n",
        "\n",
        "# Grid search\n",
        "grid_search_rf = GridSearchCV(estimator=rf_model, param_grid=param_grid_rf, cv=3, scoring='neg_mean_squared_error', verbose=2, n_jobs=-1)\n",
        "grid_search_rf.fit(X_train, y_train)\n",
        "\n",
        "# Best parameters and RMSE for RF\n",
        "best_rf_model = grid_search_rf.best_estimator_\n",
        "best_rf_rmse, best_rf_r2 = evaluate_model(best_rf_model, X_test, y_test)"
      ],
      "metadata": {
        "colab": {
          "base_uri": "https://localhost:8080/"
        },
        "id": "kPsavpOhYake",
        "outputId": "8b139529-105a-456d-d920-bfb3b37af0e3"
      },
      "execution_count": 20,
      "outputs": [
        {
          "output_type": "stream",
          "name": "stdout",
          "text": [
            "Fitting 3 folds for each of 108 candidates, totalling 324 fits\n"
          ]
        }
      ]
    },
    {
      "cell_type": "markdown",
      "source": [
        "**Gradient** **Boosting**"
      ],
      "metadata": {
        "id": "SUbzXvmnaq4C"
      }
    },
    {
      "cell_type": "code",
      "source": [
        "# Define parameter grid\n",
        "param_grid_gb = {\n",
        "    'n_estimators': [100, 200, 300],\n",
        "    'learning_rate': [0.01, 0.1, 0.2],\n",
        "    'subsample': [0.8, 0.9, 1.0],\n",
        "    'max_depth': [3, 5, 7]\n",
        "}\n",
        "\n",
        "# Grid search\n",
        "grid_search_gb = GridSearchCV(estimator=gb_model, param_grid=param_grid_gb, cv=3, scoring='neg_mean_squared_error', verbose=2, n_jobs=-1)\n",
        "grid_search_gb.fit(X_train, y_train)\n",
        "\n",
        "# Best parameters and RMSE for GB\n",
        "best_gb_model = grid_search_gb.best_estimator_\n",
        "best_gb_rmse, best_gb_r2 = evaluate_model(best_gb_model, X_test, y_test)"
      ],
      "metadata": {
        "colab": {
          "base_uri": "https://localhost:8080/"
        },
        "id": "VIZ3vuaQawtI",
        "outputId": "600b8c65-ac7a-4aec-f761-91b6a4884f7a"
      },
      "execution_count": 21,
      "outputs": [
        {
          "output_type": "stream",
          "name": "stdout",
          "text": [
            "Fitting 3 folds for each of 81 candidates, totalling 243 fits\n"
          ]
        }
      ]
    },
    {
      "cell_type": "markdown",
      "source": [
        "**Model** **Performance**"
      ],
      "metadata": {
        "id": "uklnGHd7cBah"
      }
    },
    {
      "cell_type": "code",
      "source": [
        "# all model performances\n",
        "model_performance = {\n",
        "    \"Linear Regression\": {\"RMSE\": rmse_linear, \"R2\": r2_linear},\n",
        "    \"Random Forest (default)\": {\"RMSE\": rmse_rf, \"R2\": r2_rf},\n",
        "    \"Gradient Boosting (default)\": {\"RMSE\": rmse_gb, \"R2\": r2_gb},\n",
        "    \"Random Forest (tuned)\": {\"RMSE\": best_rf_rmse, \"R2\": best_rf_r2},\n",
        "    \"Gradient Boosting (tuned)\": {\"RMSE\": best_gb_rmse, \"R2\": best_gb_r2}\n",
        "}\n",
        "\n",
        "# Displaying model performances\n",
        "for model, metrics in model_performance.items():\n",
        "    print(f\"{model} - RMSE: {metrics['RMSE']:.3f}, R2: {metrics['R2']:.3f}\")\n",
        "\n",
        "# Determining the best model based on RMSE\n",
        "best_model = min(model_performance, key=lambda x: model_performance[x]['RMSE'])\n",
        "best_model_metrics = model_performance[best_model]\n",
        "print(f\"\\nBest Model: {best_model}\")\n",
        "print(f\"Best RMSE: {best_model_metrics['RMSE']:.3f}\")\n",
        "print(f\"Best R2: {best_model_metrics['R2']:.3f}\")\n",
        "\n",
        "# exploring the best hyperparameters for the tuned models\n",
        "print(\"\\nBest Random Forest Parameters:\", grid_search_rf.best_params_)\n",
        "print(\"Best Gradient Boosting Parameters:\", grid_search_gb.best_params_)\n"
      ],
      "metadata": {
        "colab": {
          "base_uri": "https://localhost:8080/"
        },
        "id": "Ovomv60ecFJI",
        "outputId": "1f318e8f-9d20-49f3-8c19-a457af3028c1"
      },
      "execution_count": 22,
      "outputs": [
        {
          "output_type": "stream",
          "name": "stdout",
          "text": [
            "Linear Regression - RMSE: 0.375, R2: 1.000\n",
            "Random Forest (default) - RMSE: 2.063, R2: 0.999\n",
            "Gradient Boosting (default) - RMSE: 2.787, R2: 0.998\n",
            "Random Forest (tuned) - RMSE: 3.637, R2: 0.997\n",
            "Gradient Boosting (tuned) - RMSE: 2.109, R2: 0.999\n",
            "\n",
            "Best Model: Linear Regression\n",
            "Best RMSE: 0.375\n",
            "Best R2: 1.000\n",
            "\n",
            "Best Random Forest Parameters: {'max_depth': None, 'max_features': 'sqrt', 'min_samples_split': 2, 'n_estimators': 200}\n",
            "Best Gradient Boosting Parameters: {'learning_rate': 0.1, 'max_depth': 3, 'n_estimators': 300, 'subsample': 0.8}\n"
          ]
        }
      ]
    },
    {
      "cell_type": "markdown",
      "source": [
        "\n",
        "*   an R² of 0.99997 for Linear Regression means the model\n",
        "almost perfectly captures the variation in Total Renewable Energy based on the predictors."
      ],
      "metadata": {
        "id": "zqSctwOIe7JV"
      }
    },
    {
      "cell_type": "markdown",
      "source": [
        "* A very low RMSE, such as 0.375 for Linear Regression, suggests that the model's predictions are very close to the actual data points."
      ],
      "metadata": {
        "id": "YVCP1EpjfEnv"
      }
    },
    {
      "cell_type": "markdown",
      "source": [
        "Model Interpretation : Linear Regression\n",
        "* Given its high R² and low RMSE, this model is highly effective for this dataset. If the model includes only linear terms, each coefficient of the model indicates how much the Total Renewable Energy changes for one unit of change in the predictor while keeping other predictors constant."
      ],
      "metadata": {
        "id": "eTjS9NkefLjf"
      }
    },
    {
      "cell_type": "markdown",
      "source": [
        "Model Interpretation : Random Forest and Gradient Boosting\n",
        "* After tuning, improvements in RMSE and R² indicate better generalization capabilities on unseen data."
      ],
      "metadata": {
        "id": "G_dxXTvpfaKi"
      }
    }
  ]
}